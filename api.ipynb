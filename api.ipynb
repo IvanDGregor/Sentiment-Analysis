{
 "cells": [
  {
   "cell_type": "code",
   "execution_count": 189,
   "metadata": {},
   "outputs": [],
   "source": [
    "import requests"
   ]
  },
  {
   "cell_type": "markdown",
   "metadata": {},
   "source": [
    "## Create User: \n",
    "/user/create/< name>"
   ]
  },
  {
   "cell_type": "code",
   "execution_count": 101,
   "metadata": {},
   "outputs": [
    {
     "data": {
      "text/plain": [
       "<Response [200]>"
      ]
     },
     "execution_count": 101,
     "metadata": {},
     "output_type": "execute_result"
    }
   ],
   "source": [
    "requests.get(\"http://localhost:5000/user/create/\")"
   ]
  },
  {
   "cell_type": "markdown",
   "metadata": {},
   "source": [
    "## Create Chat:\n",
    "/chat/create/< name>"
   ]
  },
  {
   "cell_type": "code",
   "execution_count": 104,
   "metadata": {},
   "outputs": [
    {
     "data": {
      "text/plain": [
       "<Response [200]>"
      ]
     },
     "execution_count": 104,
     "metadata": {},
     "output_type": "execute_result"
    }
   ],
   "source": [
    "requests.get(\"http://localhost:5000/chat/create/Grupo 1\")"
   ]
  },
  {
   "cell_type": "markdown",
   "metadata": {},
   "source": [
    "## Add User:\n",
    "'/chat/< chat_id>/adduser/< user_id>'"
   ]
  },
  {
   "cell_type": "code",
   "execution_count": 114,
   "metadata": {},
   "outputs": [
    {
     "data": {
      "text/plain": [
       "<Response [200]>"
      ]
     },
     "execution_count": 114,
     "metadata": {},
     "output_type": "execute_result"
    }
   ],
   "source": [
    "requests.get(\"http://localhost:5000/chat/5e53df9c6a91ef323491d082/adduser/5e53de646a91ef30ae35fe04\")"
   ]
  },
  {
   "cell_type": "markdown",
   "metadata": {},
   "source": [
    "## Add Message:\n",
    "'/messages/< chat_id>/addmessage/< user_id>/< text>'"
   ]
  },
  {
   "cell_type": "code",
   "execution_count": 152,
   "metadata": {},
   "outputs": [
    {
     "data": {
      "text/plain": [
       "<Response [200]>"
      ]
     },
     "execution_count": 152,
     "metadata": {},
     "output_type": "execute_result"
    }
   ],
   "source": [
    "requests.get(\"http://localhost:5000/messages/5e53df9c6a91ef323491d082/addmessage/5e53de646a91ef30ae35fe04/1001010100101001\")"
   ]
  },
  {
   "cell_type": "markdown",
   "metadata": {},
   "source": [
    "## List all messages in chat\n",
    "'/chat/list/< chat_id>'"
   ]
  },
  {
   "cell_type": "code",
   "execution_count": 153,
   "metadata": {},
   "outputs": [
    {
     "data": {
      "text/plain": [
       "[{'user_id': {'$oid': '5e5281be6a91ef14fca6e45c'}, 'text': 'Adios'},\n",
       " {'user_id': {'$oid': '5e5281be6a91ef14fca6e45c'}, 'text': 'Buenas'},\n",
       " {'user_id': {'$oid': '5e5281be6a91ef14fca6e45c'},\n",
       "  'text': 'Esto es una puta mierda !!'},\n",
       " {'user_id': {'$oid': '5e5281be6a91ef14fca6e45c'}, 'text': 'Jodete!!'},\n",
       " {'user_id': {'$oid': '5e5281be6a91ef14fca6e45c'}, 'text': 'Mal!!'},\n",
       " {'user_id': {'$oid': '5e4ed8526a91ef10b1e9bc03'}, 'text': 'Mal!!'},\n",
       " {'user_id': {'$oid': '5e4ed8526a91ef10b1e9bc03'}, 'text': 'Bien!!'},\n",
       " {'user_id': {'$oid': '5e4ed8526a91ef10b1e9bc03'}, 'text': 'Que bien!!'},\n",
       " {'user_id': {'$oid': '5e4ed8526a91ef10b1e9bc03'}, 'text': 'Hola!!'},\n",
       " {'user_id': {'$oid': '5e4ed8526a91ef10b1e9bc03'}, 'text': 'Jueves a las 3'},\n",
       " {'user_id': {'$oid': '5e52823d6a91ef14fca6e45d'}, 'text': 'No'},\n",
       " {'user_id': {'$oid': '5e52823d6a91ef14fca6e45d'}, 'text': 'No'},\n",
       " {'user_id': {'$oid': '5e52823d6a91ef14fca6e45d'}, 'text': 'No'},\n",
       " {'user_id': {'$oid': '5e52823d6a91ef14fca6e45d'}, 'text': 'No'},\n",
       " {'user_id': {'$oid': '5e52823d6a91ef14fca6e45d'}, 'text': 'No'},\n",
       " {'user_id': {'$oid': '5e52823d6a91ef14fca6e45d'}, 'text': 'No'},\n",
       " {'user_id': {'$oid': '5e52823d6a91ef14fca6e45d'}, 'text': 'Si'},\n",
       " {'user_id': {'$oid': '5e52823d6a91ef14fca6e45d'}, 'text': 'Si'},\n",
       " {'user_id': {'$oid': '5e52823d6a91ef14fca6e45d'}, 'text': 'Si'},\n",
       " {'user_id': {'$oid': '5e52823d6a91ef14fca6e45d'}, 'text': 'Si'},\n",
       " {'user_id': {'$oid': '5e52823d6a91ef14fca6e45d'}, 'text': 'Si'},\n",
       " {'user_id': {'$oid': '5e53de366a91ef30ae35fe00'}, 'text': 'uno'},\n",
       " {'user_id': {'$oid': '5e53de366a91ef30ae35fe00'}, 'text': 'dos'},\n",
       " {'user_id': {'$oid': '5e53de366a91ef30ae35fe00'}, 'text': 'tres'},\n",
       " {'user_id': {'$oid': '5e53de3f6a91ef30ae35fe01'}, 'text': 'MAC'},\n",
       " {'user_id': {'$oid': '5e53de3f6a91ef30ae35fe01'}, 'text': 'Windows'},\n",
       " {'user_id': {'$oid': '5e53de3f6a91ef30ae35fe01'}, 'text': 'Ubuntu'},\n",
       " {'user_id': {'$oid': '5e53de576a91ef30ae35fe02'}, 'text': 'Happy happy!!!'},\n",
       " {'user_id': {'$oid': '5e53de576a91ef30ae35fe02'}, 'text': 'Happy happy!!!'},\n",
       " {'user_id': {'$oid': '5e53de576a91ef30ae35fe02'}, 'text': 'Happy happy!!!'},\n",
       " {'user_id': {'$oid': '5e53de576a91ef30ae35fe02'}, 'text': 'Happy happy!!!'},\n",
       " {'user_id': {'$oid': '5e53de5d6a91ef30ae35fe03'}, 'text': 'Hola'},\n",
       " {'user_id': {'$oid': '5e53de5d6a91ef30ae35fe03'}, 'text': 'Adios'},\n",
       " {'user_id': {'$oid': '5e53de646a91ef30ae35fe04'}, 'text': '1001010100101001'}]"
      ]
     },
     "execution_count": 153,
     "metadata": {},
     "output_type": "execute_result"
    }
   ],
   "source": [
    "requests.get(\"http://localhost:5000/chat/list/5e53df9c6a91ef323491d082\").json()"
   ]
  },
  {
   "cell_type": "markdown",
   "metadata": {},
   "source": [
    "## List all messages from a single user in a chat\n",
    "'/chat/list/user/messages/< chat_id>/< user_id>'"
   ]
  },
  {
   "cell_type": "code",
   "execution_count": 155,
   "metadata": {},
   "outputs": [
    {
     "data": {
      "text/plain": [
       "[{'user_id': {'$oid': '5e4ed8526a91ef10b1e9bc03'}, 'text': 'Mal!!'},\n",
       " {'user_id': {'$oid': '5e4ed8526a91ef10b1e9bc03'}, 'text': 'Bien!!'},\n",
       " {'user_id': {'$oid': '5e4ed8526a91ef10b1e9bc03'}, 'text': 'Que bien!!'},\n",
       " {'user_id': {'$oid': '5e4ed8526a91ef10b1e9bc03'}, 'text': 'Hola!!'},\n",
       " {'user_id': {'$oid': '5e4ed8526a91ef10b1e9bc03'}, 'text': 'Jueves a las 3'}]"
      ]
     },
     "execution_count": 155,
     "metadata": {},
     "output_type": "execute_result"
    }
   ],
   "source": [
    "requests.get(\"http://localhost:5000/chat/list/user/messages/5e53df9c6a91ef323491d082/5e4ed8526a91ef10b1e9bc03\").json()"
   ]
  },
  {
   "cell_type": "markdown",
   "metadata": {},
   "source": [
    "## List all users in a chat\n",
    "'/chat/list/users/< chat_id>'"
   ]
  },
  {
   "cell_type": "code",
   "execution_count": 156,
   "metadata": {},
   "outputs": [
    {
     "data": {
      "text/plain": [
       "[[{'name': 'Ivan'}],\n",
       " [{'name': 'Pepe'}],\n",
       " [{'name': 'Luis'}],\n",
       " [{'name': 'Maria'}],\n",
       " [{'name': 'Juana'}],\n",
       " [{'name': 'Marcos'}],\n",
       " [{'name': 'Luisa'}],\n",
       " [{'name': 'Jorge'}],\n",
       " [{'name': 'Santi'}]]"
      ]
     },
     "execution_count": 156,
     "metadata": {},
     "output_type": "execute_result"
    }
   ],
   "source": [
    "requests.get(\"http://localhost:5000/chat/list/users/5e53df9c6a91ef323491d082\").json()"
   ]
  },
  {
   "cell_type": "markdown",
   "metadata": {},
   "source": [
    "## Analyze each chat message independently with 'NLTK' sentiment analysis\n",
    "'/chat/analyze/each/< chat_id>'"
   ]
  },
  {
   "cell_type": "code",
   "execution_count": 159,
   "metadata": {},
   "outputs": [
    {
     "data": {
      "text/plain": [
       "[['5e5281be6a91ef14fca6e45c',\n",
       "  {'neg': 0.0, 'neu': 1.0, 'pos': 0.0, 'compound': 0.0}],\n",
       " ['5e5281be6a91ef14fca6e45c',\n",
       "  {'neg': 0.0, 'neu': 1.0, 'pos': 0.0, 'compound': 0.0}],\n",
       " ['5e5281be6a91ef14fca6e45c',\n",
       "  {'neg': 0.0, 'neu': 1.0, 'pos': 0.0, 'compound': 0.0}],\n",
       " ['5e5281be6a91ef14fca6e45c',\n",
       "  {'neg': 0.0, 'neu': 1.0, 'pos': 0.0, 'compound': 0.0}],\n",
       " ['5e5281be6a91ef14fca6e45c',\n",
       "  {'neg': 0.0, 'neu': 1.0, 'pos': 0.0, 'compound': 0.0}],\n",
       " ['5e4ed8526a91ef10b1e9bc03',\n",
       "  {'neg': 0.0, 'neu': 1.0, 'pos': 0.0, 'compound': 0.0}],\n",
       " ['5e4ed8526a91ef10b1e9bc03',\n",
       "  {'neg': 0.0, 'neu': 1.0, 'pos': 0.0, 'compound': 0.0}],\n",
       " ['5e4ed8526a91ef10b1e9bc03',\n",
       "  {'neg': 0.0, 'neu': 1.0, 'pos': 0.0, 'compound': 0.0}],\n",
       " ['5e4ed8526a91ef10b1e9bc03',\n",
       "  {'neg': 0.0, 'neu': 1.0, 'pos': 0.0, 'compound': 0.0}],\n",
       " ['5e4ed8526a91ef10b1e9bc03',\n",
       "  {'neg': 0.0, 'neu': 1.0, 'pos': 0.0, 'compound': 0.0}],\n",
       " ['5e52823d6a91ef14fca6e45d',\n",
       "  {'neg': 1.0, 'neu': 0.0, 'pos': 0.0, 'compound': -0.296}],\n",
       " ['5e52823d6a91ef14fca6e45d',\n",
       "  {'neg': 1.0, 'neu': 0.0, 'pos': 0.0, 'compound': -0.296}],\n",
       " ['5e52823d6a91ef14fca6e45d',\n",
       "  {'neg': 1.0, 'neu': 0.0, 'pos': 0.0, 'compound': -0.296}],\n",
       " ['5e52823d6a91ef14fca6e45d',\n",
       "  {'neg': 1.0, 'neu': 0.0, 'pos': 0.0, 'compound': -0.296}],\n",
       " ['5e52823d6a91ef14fca6e45d',\n",
       "  {'neg': 1.0, 'neu': 0.0, 'pos': 0.0, 'compound': -0.296}],\n",
       " ['5e52823d6a91ef14fca6e45d',\n",
       "  {'neg': 1.0, 'neu': 0.0, 'pos': 0.0, 'compound': -0.296}],\n",
       " ['5e52823d6a91ef14fca6e45d',\n",
       "  {'neg': 0.0, 'neu': 1.0, 'pos': 0.0, 'compound': 0.0}],\n",
       " ['5e52823d6a91ef14fca6e45d',\n",
       "  {'neg': 0.0, 'neu': 1.0, 'pos': 0.0, 'compound': 0.0}],\n",
       " ['5e52823d6a91ef14fca6e45d',\n",
       "  {'neg': 0.0, 'neu': 1.0, 'pos': 0.0, 'compound': 0.0}],\n",
       " ['5e52823d6a91ef14fca6e45d',\n",
       "  {'neg': 0.0, 'neu': 1.0, 'pos': 0.0, 'compound': 0.0}],\n",
       " ['5e52823d6a91ef14fca6e45d',\n",
       "  {'neg': 0.0, 'neu': 1.0, 'pos': 0.0, 'compound': 0.0}],\n",
       " ['5e53de366a91ef30ae35fe00',\n",
       "  {'neg': 0.0, 'neu': 1.0, 'pos': 0.0, 'compound': 0.0}],\n",
       " ['5e53de366a91ef30ae35fe00',\n",
       "  {'neg': 0.0, 'neu': 1.0, 'pos': 0.0, 'compound': 0.0}],\n",
       " ['5e53de366a91ef30ae35fe00',\n",
       "  {'neg': 0.0, 'neu': 1.0, 'pos': 0.0, 'compound': 0.0}],\n",
       " ['5e53de3f6a91ef30ae35fe01',\n",
       "  {'neg': 0.0, 'neu': 1.0, 'pos': 0.0, 'compound': 0.0}],\n",
       " ['5e53de3f6a91ef30ae35fe01',\n",
       "  {'neg': 0.0, 'neu': 1.0, 'pos': 0.0, 'compound': 0.0}],\n",
       " ['5e53de3f6a91ef30ae35fe01',\n",
       "  {'neg': 0.0, 'neu': 1.0, 'pos': 0.0, 'compound': 0.0}],\n",
       " ['5e53de576a91ef30ae35fe02',\n",
       "  {'neg': 0.0, 'neu': 0.0, 'pos': 1.0, 'compound': 0.851}],\n",
       " ['5e53de576a91ef30ae35fe02',\n",
       "  {'neg': 0.0, 'neu': 0.0, 'pos': 1.0, 'compound': 0.851}],\n",
       " ['5e53de576a91ef30ae35fe02',\n",
       "  {'neg': 0.0, 'neu': 0.0, 'pos': 1.0, 'compound': 0.851}],\n",
       " ['5e53de576a91ef30ae35fe02',\n",
       "  {'neg': 0.0, 'neu': 0.0, 'pos': 1.0, 'compound': 0.851}],\n",
       " ['5e53de5d6a91ef30ae35fe03',\n",
       "  {'neg': 0.0, 'neu': 1.0, 'pos': 0.0, 'compound': 0.0}],\n",
       " ['5e53de5d6a91ef30ae35fe03',\n",
       "  {'neg': 0.0, 'neu': 1.0, 'pos': 0.0, 'compound': 0.0}],\n",
       " ['5e53de646a91ef30ae35fe04',\n",
       "  {'neg': 0.0, 'neu': 1.0, 'pos': 0.0, 'compound': 0.0}]]"
      ]
     },
     "execution_count": 159,
     "metadata": {},
     "output_type": "execute_result"
    }
   ],
   "source": [
    "requests.get(\"http://localhost:5000/chat/analyze/each/5e53df9c6a91ef323491d082\").json()"
   ]
  },
  {
   "cell_type": "markdown",
   "metadata": {},
   "source": [
    "## Analyze all chat messages with 'NLTK' sentiment analysis\n",
    "'/chat/analyze/all/< chat_id>'"
   ]
  },
  {
   "cell_type": "code",
   "execution_count": 160,
   "metadata": {},
   "outputs": [
    {
     "data": {
      "text/plain": [
       "{'id': '5e53df9c6a91ef323491d082', 'neg': 6.0, 'neu': 24.0, 'pos': 4.0}"
      ]
     },
     "execution_count": 160,
     "metadata": {},
     "output_type": "execute_result"
    }
   ],
   "source": [
    "requests.get(\"http://localhost:5000/chat/analyze/all/5e53df9c6a91ef323491d082\").json()"
   ]
  },
  {
   "cell_type": "markdown",
   "metadata": {},
   "source": [
    "## Analyze all chat messages with 'NLTK' sentiment analysis for a specific user\n",
    "'/chat/analyze/all/user/< chat_id>/< user_id>'"
   ]
  },
  {
   "cell_type": "code",
   "execution_count": 161,
   "metadata": {},
   "outputs": [
    {
     "data": {
      "text/plain": [
       "{'user_id': '5e4ed8526a91ef10b1e9bc03',\n",
       " 'chat_id': '5e53df9c6a91ef323491d082',\n",
       " 'neg': 0.0,\n",
       " 'neu': 5.0,\n",
       " 'pos': 0.0}"
      ]
     },
     "execution_count": 161,
     "metadata": {},
     "output_type": "execute_result"
    }
   ],
   "source": [
    "requests.get(\"http://localhost:5000/chat/analyze/all/user/5e53df9c6a91ef323491d082/5e4ed8526a91ef10b1e9bc03\").json()"
   ]
  },
  {
   "cell_type": "markdown",
   "metadata": {},
   "source": [
    "## Analyze all chat messages with 'NLTK' sentiment analysis for each user\n",
    "'chat/analyze/all/each_user/< chat_id>"
   ]
  },
  {
   "cell_type": "code",
   "execution_count": 188,
   "metadata": {},
   "outputs": [
    {
     "data": {
      "text/plain": [
       "[{'user_id': '5e4ed8526a91ef10b1e9bc03',\n",
       "  'chat_id': '5e53df9c6a91ef323491d082',\n",
       "  'neg': 0.0,\n",
       "  'neu': 5.0,\n",
       "  'pos': 0.0},\n",
       " {'user_id': '5e5281be6a91ef14fca6e45c',\n",
       "  'chat_id': '5e53df9c6a91ef323491d082',\n",
       "  'neg': 0.0,\n",
       "  'neu': 5.0,\n",
       "  'pos': 0.0},\n",
       " {'user_id': '5e52823d6a91ef14fca6e45d',\n",
       "  'chat_id': '5e53df9c6a91ef323491d082',\n",
       "  'neg': 6.0,\n",
       "  'neu': 5.0,\n",
       "  'pos': 0.0},\n",
       " {'user_id': '5e53de2c6a91ef30ae35fdff',\n",
       "  'chat_id': '5e53df9c6a91ef323491d082',\n",
       "  'neg': 0.0,\n",
       "  'neu': 0.0,\n",
       "  'pos': 0.0},\n",
       " {'user_id': '5e53de366a91ef30ae35fe00',\n",
       "  'chat_id': '5e53df9c6a91ef323491d082',\n",
       "  'neg': 0.0,\n",
       "  'neu': 3.0,\n",
       "  'pos': 0.0},\n",
       " {'user_id': '5e53de3f6a91ef30ae35fe01',\n",
       "  'chat_id': '5e53df9c6a91ef323491d082',\n",
       "  'neg': 0.0,\n",
       "  'neu': 3.0,\n",
       "  'pos': 0.0},\n",
       " {'user_id': '5e53de576a91ef30ae35fe02',\n",
       "  'chat_id': '5e53df9c6a91ef323491d082',\n",
       "  'neg': 0.0,\n",
       "  'neu': 0.0,\n",
       "  'pos': 4.0},\n",
       " {'user_id': '5e53de5d6a91ef30ae35fe03',\n",
       "  'chat_id': '5e53df9c6a91ef323491d082',\n",
       "  'neg': 0.0,\n",
       "  'neu': 2.0,\n",
       "  'pos': 0.0},\n",
       " {'user_id': '5e53de646a91ef30ae35fe04',\n",
       "  'chat_id': '5e53df9c6a91ef323491d082',\n",
       "  'neg': 0.0,\n",
       "  'neu': 1.0,\n",
       "  'pos': 0.0}]"
      ]
     },
     "execution_count": 188,
     "metadata": {},
     "output_type": "execute_result"
    }
   ],
   "source": [
    "requests.get(\"http://localhost:5000/chat/analyze/all/each_user/5e53df9c6a91ef323491d082\").json()"
   ]
  },
  {
   "cell_type": "markdown",
   "metadata": {},
   "source": [
    "## Recommend 3 users for a specific user\n",
    "'/chat/user/< user_id>/recommend/< chat_id>'"
   ]
  },
  {
   "cell_type": "code",
   "execution_count": 187,
   "metadata": {},
   "outputs": [
    {
     "data": {
      "text/plain": [
       "[[{'name': 'Ivan'}], [{'name': 'Marcos'}], [{'name': 'Juana'}]]"
      ]
     },
     "execution_count": 187,
     "metadata": {},
     "output_type": "execute_result"
    }
   ],
   "source": [
    "requests.get(\"http://localhost:5000/user/5e4ed8526a91ef10b1e9bc03/recommend/5e53df9c6a91ef323491d082\").json()"
   ]
  }
 ],
 "metadata": {
  "kernelspec": {
   "display_name": "Python 3",
   "language": "python",
   "name": "python3"
  },
  "language_info": {
   "codemirror_mode": {
    "name": "ipython",
    "version": 3
   },
   "file_extension": ".py",
   "mimetype": "text/x-python",
   "name": "python",
   "nbconvert_exporter": "python",
   "pygments_lexer": "ipython3",
   "version": "3.6.9"
  }
 },
 "nbformat": 4,
 "nbformat_minor": 4
}
