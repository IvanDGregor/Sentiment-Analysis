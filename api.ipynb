{
 "cells": [
  {
   "cell_type": "code",
   "execution_count": 37,
   "metadata": {},
   "outputs": [],
   "source": [
    "import requests\n",
    "import pymongo"
   ]
  },
  {
   "cell_type": "markdown",
   "metadata": {},
   "source": [
    "## Create User: \n",
    "/user/create/< name>"
   ]
  },
  {
   "cell_type": "code",
   "execution_count": 33,
   "metadata": {},
   "outputs": [
    {
     "data": {
      "text/plain": [
       "<Response [200]>"
      ]
     },
     "execution_count": 33,
     "metadata": {},
     "output_type": "execute_result"
    }
   ],
   "source": [
    "requests.get(\"http://localhost:5000/user/create/Luis\")"
   ]
  },
  {
   "cell_type": "markdown",
   "metadata": {},
   "source": [
    "## Create Chat:\n",
    "/chat/create/< name>"
   ]
  },
  {
   "cell_type": "code",
   "execution_count": 3,
   "metadata": {},
   "outputs": [
    {
     "data": {
      "text/plain": [
       "<Response [200]>"
      ]
     },
     "execution_count": 3,
     "metadata": {},
     "output_type": "execute_result"
    }
   ],
   "source": [
    "requests.get(\"http://localhost:5000/chat/create/Grupo 1\")"
   ]
  },
  {
   "cell_type": "markdown",
   "metadata": {},
   "source": [
    "## Add User:\n",
    "'/chat/< chat_id>/adduser/< user_id>'"
   ]
  },
  {
   "cell_type": "code",
   "execution_count": 8,
   "metadata": {},
   "outputs": [
    {
     "data": {
      "text/plain": [
       "<Response [200]>"
      ]
     },
     "execution_count": 8,
     "metadata": {},
     "output_type": "execute_result"
    }
   ],
   "source": [
    "requests.get(\"http://localhost:5000/chat/5e4ee26a6a91ef173214fb97/adduser/5e4ed8526a91ef10b1e9bc03\")"
   ]
  },
  {
   "cell_type": "markdown",
   "metadata": {},
   "source": [
    "## Add Message:\n",
    "'/messages/< chat_id>/addmessage/< user_id>/< text>'"
   ]
  },
  {
   "cell_type": "code",
   "execution_count": 69,
   "metadata": {},
   "outputs": [
    {
     "data": {
      "text/plain": [
       "<Response [200]>"
      ]
     },
     "execution_count": 69,
     "metadata": {},
     "output_type": "execute_result"
    }
   ],
   "source": [
    "requests.get(\"http://localhost:5000/messages/5e4ee26a6a91ef173214fb97/addmessage/5e52823d6a91ef14fca6e45d/Adios\")"
   ]
  },
  {
   "cell_type": "markdown",
   "metadata": {},
   "source": [
    "## List all messages in chat\n",
    "'/chat/list/< chat_id>'"
   ]
  },
  {
   "cell_type": "code",
   "execution_count": 38,
   "metadata": {},
   "outputs": [
    {
     "data": {
      "text/plain": [
       "[{'user_id': {'$oid': '5e4ed8526a91ef10b1e9bc03'}, 'text': 'Mal'},\n",
       " {'user_id': {'$oid': '5e4ed8526a91ef10b1e9bc03'}, 'text': 'Muy bien !'},\n",
       " {'user_id': {'$oid': '5e4ed8526a91ef10b1e9bc03'}, 'text': 'Hola'},\n",
       " {'user_id': {'$oid': '5e5281be6a91ef14fca6e45c'}, 'text': 'Adios'},\n",
       " {'user_id': {'$oid': '5e5281be6a91ef14fca6e45c'}, 'text': 'Fatal'},\n",
       " {'user_id': {'$oid': '5e5281be6a91ef14fca6e45c'}, 'text': 'Joder'},\n",
       " {'user_id': {'$oid': '5e52823d6a91ef14fca6e45d'}, 'text': 'Hola'},\n",
       " {'user_id': {'$oid': '5e52823d6a91ef14fca6e45d'}, 'text': 'Adios'}]"
      ]
     },
     "execution_count": 38,
     "metadata": {},
     "output_type": "execute_result"
    }
   ],
   "source": [
    "requests.get(\"http://localhost:5000/chat/list/5e4ee26a6a91ef173214fb97\").json()"
   ]
  },
  {
   "cell_type": "code",
   "execution_count": 15,
   "metadata": {},
   "outputs": [
    {
     "name": "stdout",
     "output_type": "stream",
     "text": [
      "5e4ed8526a91ef10b1e9bc03\n",
      "5e4ed8526a91ef10b1e9bc03\n",
      "5e4ed8526a91ef10b1e9bc03\n",
      "5e5281be6a91ef14fca6e45c\n",
      "5e5281be6a91ef14fca6e45c\n",
      "5e5281be6a91ef14fca6e45c\n",
      "5e52823d6a91ef14fca6e45d\n",
      "5e52823d6a91ef14fca6e45d\n"
     ]
    }
   ],
   "source": [
    "for i in a:\n",
    "    print(i['user_id']['$oid'])"
   ]
  },
  {
   "cell_type": "markdown",
   "metadata": {},
   "source": [
    "## List all messages from a single user in a chat\n",
    "'/chat/list/user/messages/< chat_id>/< user_id>'"
   ]
  },
  {
   "cell_type": "code",
   "execution_count": 71,
   "metadata": {},
   "outputs": [
    {
     "data": {
      "text/plain": [
       "[{'user_id': {'$oid': '5e4ed8526a91ef10b1e9bc03'}, 'text': 'Mal'},\n",
       " {'user_id': {'$oid': '5e4ed8526a91ef10b1e9bc03'}, 'text': 'Muy bien !'},\n",
       " {'user_id': {'$oid': '5e4ed8526a91ef10b1e9bc03'}, 'text': 'Hola'}]"
      ]
     },
     "execution_count": 71,
     "metadata": {},
     "output_type": "execute_result"
    }
   ],
   "source": [
    "requests.get(\"http://localhost:5000/chat/list/user/messages/5e4ee26a6a91ef173214fb97/5e4ed8526a91ef10b1e9bc03\").json()"
   ]
  },
  {
   "cell_type": "markdown",
   "metadata": {},
   "source": [
    "## List all users in a chat\n",
    "'/chat/list/users/< chat_id>'"
   ]
  },
  {
   "cell_type": "code",
   "execution_count": 88,
   "metadata": {},
   "outputs": [
    {
     "data": {
      "text/plain": [
       "[[{'name': 'Ivan'}], [{'name': 'Pepe'}], [{'name': 'Luis'}]]"
      ]
     },
     "execution_count": 88,
     "metadata": {},
     "output_type": "execute_result"
    }
   ],
   "source": [
    "requests.get(\"http://localhost:5000/chat/list/users/5e4ee26a6a91ef173214fb97\").json()"
   ]
  },
  {
   "cell_type": "markdown",
   "metadata": {},
   "source": [
    "## Analyze each chat message independently with 'NLTK' sentiment analysis\n",
    "'/chat/analyze/each/< chat_id>'"
   ]
  },
  {
   "cell_type": "code",
   "execution_count": 4,
   "metadata": {},
   "outputs": [
    {
     "data": {
      "text/plain": [
       "[['5e4ed8526a91ef10b1e9bc03',\n",
       "  {'neg': 0.0, 'neu': 1.0, 'pos': 0.0, 'compound': 0.0}],\n",
       " ['5e4ed8526a91ef10b1e9bc03',\n",
       "  {'neg': 0.0, 'neu': 1.0, 'pos': 0.0, 'compound': 0.0}],\n",
       " ['5e4ed8526a91ef10b1e9bc03',\n",
       "  {'neg': 0.0, 'neu': 1.0, 'pos': 0.0, 'compound': 0.0}],\n",
       " ['5e5281be6a91ef14fca6e45c',\n",
       "  {'neg': 0.0, 'neu': 1.0, 'pos': 0.0, 'compound': 0.0}],\n",
       " ['5e5281be6a91ef14fca6e45c',\n",
       "  {'neg': 1.0, 'neu': 0.0, 'pos': 0.0, 'compound': -0.5423}],\n",
       " ['5e5281be6a91ef14fca6e45c',\n",
       "  {'neg': 0.0, 'neu': 1.0, 'pos': 0.0, 'compound': 0.0}],\n",
       " ['5e52823d6a91ef14fca6e45d',\n",
       "  {'neg': 0.0, 'neu': 1.0, 'pos': 0.0, 'compound': 0.0}],\n",
       " ['5e52823d6a91ef14fca6e45d',\n",
       "  {'neg': 0.0, 'neu': 1.0, 'pos': 0.0, 'compound': 0.0}]]"
      ]
     },
     "execution_count": 4,
     "metadata": {},
     "output_type": "execute_result"
    }
   ],
   "source": [
    "requests.get(\"http://localhost:5000/chat/analyze/each/5e4ee26a6a91ef173214fb97\").json()"
   ]
  },
  {
   "cell_type": "markdown",
   "metadata": {},
   "source": [
    "## Analyze all chat messages with 'NLTK' sentiment analysis\n",
    "'/chat/analyze/all/< chat_id>'"
   ]
  },
  {
   "cell_type": "code",
   "execution_count": 27,
   "metadata": {},
   "outputs": [
    {
     "data": {
      "text/plain": [
       "{'id': '5e4ee26a6a91ef173214fb97', 'neg': 0.0, 'neu': 2.0, 'pos': 0.0}"
      ]
     },
     "execution_count": 27,
     "metadata": {},
     "output_type": "execute_result"
    }
   ],
   "source": [
    "requests.get(\"http://localhost:5000/chat/analyze/all/5e4ee26a6a91ef173214fb97\").json()"
   ]
  },
  {
   "cell_type": "markdown",
   "metadata": {},
   "source": [
    "## Analyze all chat messages with 'NLTK' sentiment analysis for a specific user\n",
    "'/chat/analyze/all/user/< chat_id>/< user_id>'"
   ]
  },
  {
   "cell_type": "code",
   "execution_count": 29,
   "metadata": {},
   "outputs": [
    {
     "data": {
      "text/plain": [
       "{'id': '5e4ee26a6a91ef173214fb97', 'neg': 0.0, 'neu': 2.0, 'pos': 0.0}"
      ]
     },
     "execution_count": 29,
     "metadata": {},
     "output_type": "execute_result"
    }
   ],
   "source": [
    "requests.get(\"http://localhost:5000/chat/analyze/all/user/5e4ee26a6a91ef173214fb97/5e4ed8526a91ef10b1e9bc03\").json()"
   ]
  },
  {
   "cell_type": "markdown",
   "metadata": {},
   "source": [
    "## Analyze all chat messages with 'NLTK' sentiment analysis for each user\n",
    "'chat/analyze/all/each_user/< chat_id>"
   ]
  },
  {
   "cell_type": "code",
   "execution_count": 59,
   "metadata": {},
   "outputs": [
    {
     "data": {
      "text/plain": [
       "[{'user_id': '5e4ed8526a91ef10b1e9bc03',\n",
       "  'chat_id': '5e4ee26a6a91ef173214fb97',\n",
       "  'neg': 0.0,\n",
       "  'neu': 3.0,\n",
       "  'pos': 0.0},\n",
       " {'user_id': '5e5281be6a91ef14fca6e45c',\n",
       "  'chat_id': '5e4ee26a6a91ef173214fb97',\n",
       "  'neg': 1.0,\n",
       "  'neu': 2.0,\n",
       "  'pos': 0.0},\n",
       " {'user_id': '5e52823d6a91ef14fca6e45d',\n",
       "  'chat_id': '5e4ee26a6a91ef173214fb97',\n",
       "  'neg': 0.0,\n",
       "  'neu': 2.0,\n",
       "  'pos': 0.0}]"
      ]
     },
     "execution_count": 59,
     "metadata": {},
     "output_type": "execute_result"
    }
   ],
   "source": [
    "requests.get(\"http://localhost:5000/chat/analyze/all/each_user/5e4ee26a6a91ef173214fb97\").json()"
   ]
  },
  {
   "cell_type": "markdown",
   "metadata": {},
   "source": [
    "## Recommend 3 users for a specific user\n",
    "'/chat/user/< user_id>/recommend/< chat_id>'"
   ]
  },
  {
   "cell_type": "code",
   "execution_count": 82,
   "metadata": {},
   "outputs": [],
   "source": [
    "requests.get(\"http://localhost:5000/user/5e4ed8526a91ef10b1e9bc03/recommend/5e4ee26a6a91ef173214fb97\").json()"
   ]
  },
  {
   "cell_type": "code",
   "execution_count": null,
   "metadata": {},
   "outputs": [],
   "source": []
  }
 ],
 "metadata": {
  "kernelspec": {
   "display_name": "Python 3",
   "language": "python",
   "name": "python3"
  },
  "language_info": {
   "codemirror_mode": {
    "name": "ipython",
    "version": 3
   },
   "file_extension": ".py",
   "mimetype": "text/x-python",
   "name": "python",
   "nbconvert_exporter": "python",
   "pygments_lexer": "ipython3",
   "version": "3.6.9"
  }
 },
 "nbformat": 4,
 "nbformat_minor": 4
}
